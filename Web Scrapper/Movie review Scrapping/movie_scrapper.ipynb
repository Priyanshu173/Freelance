{
  "nbformat": 4,
  "nbformat_minor": 0,
  "metadata": {
    "colab": {
      "provenance": []
    },
    "kernelspec": {
      "name": "python3",
      "display_name": "Python 3"
    },
    "language_info": {
      "name": "python"
    }
  },
  "cells": [
    {
      "cell_type": "code",
      "execution_count": 1,
      "metadata": {
        "id": "h7MXQMz_nDgc"
      },
      "outputs": [],
      "source": [
        "import requests\n",
        "import pandas as pd\n",
        "from bs4 import BeautifulSoup\n",
        "import re"
      ]
    },
    {
      "cell_type": "code",
      "source": [
        "def run(url):\n",
        "    headers = {\n",
        "        'User-Agent': 'Mozilla/5.0 (Windows NT 6.1) AppleWebKit/537.36 (KHTML, like Gecko) Chrome/41.0.2228.0 Safari/537.36'\n",
        "    }\n",
        "\n",
        "    response = None\n",
        "    for i in range(5):\n",
        "        response = requests.get(url, headers=headers)\n",
        "        if response.status_code == 200:\n",
        "            break\n",
        "        else:\n",
        "            print('Failed attempt', i)\n",
        "            time.sleep(2)\n",
        "\n",
        "    if not response or response.status_code != 200:\n",
        "        print('Failed to retrieve the webpage.')\n",
        "        return\n",
        "\n",
        "    soup = BeautifulSoup(response.text, 'lxml')\n",
        "\n",
        "    reviews = soup.find_all('div', class_='review-row')\n",
        "\n",
        "    data = []\n",
        "    for review in reviews:\n",
        "        critic_name = review.find('a', href=re.compile('/critics/')).text.strip()\n",
        "        critic_link = 'https://www.rottentomatoes.com' + review.find('a', href=re.compile('/critics/'))['href']\n",
        "\n",
        "        platform = review.find('a', class_='publication').text.strip()\n",
        "        review_date = review.find('span', {'data-qa': 'review-date'}).text.strip()\n",
        "\n",
        "        rating_icon = review.find('score-icon-critic-deprecated', {'size': 'small'})\n",
        "        rating = 'NA'\n",
        "        if rating_icon:\n",
        "            state = rating_icon.get('state', 'unknown')\n",
        "            rating = 'fresh' if state.lower() == 'fresh' else 'rotten'\n",
        "\n",
        "        text = review.find('p', class_='review-text').text.strip()\n",
        "\n",
        "        data.append([critic_name, text, rating, review_date, platform])\n",
        "\n",
        "    # Create a DataFrame from the data\n",
        "    df = pd.DataFrame(data, columns=['Critic', 'Text', 'Rating', 'Review Date', 'Platform'])\n",
        "\n",
        "    # Save the DataFrame to a CSV file\n",
        "    df.to_csv('reviews.csv', encoding='utf-8', index=False)"
      ],
      "metadata": {
        "id": "1faHyQr8nMWX"
      },
      "execution_count": 2,
      "outputs": []
    },
    {
      "cell_type": "code",
      "source": [
        "if __name__ == \"__main__\":\n",
        "    url = 'https://www.rottentomatoes.com/m/matrix_revolutions/reviews'\n",
        "    run(url)"
      ],
      "metadata": {
        "id": "x6Rh8kCrnb_Q"
      },
      "execution_count": 3,
      "outputs": []
    },
    {
      "cell_type": "code",
      "source": [],
      "metadata": {
        "id": "5ZYMXj2bnfw9"
      },
      "execution_count": 3,
      "outputs": []
    }
  ]
}