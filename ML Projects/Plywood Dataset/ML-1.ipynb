{
  "nbformat": 4,
  "nbformat_minor": 0,
  "metadata": {
    "colab": {
      "provenance": []
    },
    "kernelspec": {
      "name": "python3",
      "display_name": "Python 3"
    },
    "language_info": {
      "name": "python"
    }
  },
  "cells": [
    {
      "cell_type": "code",
      "execution_count": 16,
      "metadata": {
        "id": "GECIRj8noFek"
      },
      "outputs": [],
      "source": [
        "import pandas as pd\n",
        "import numpy as np\n",
        "from statsmodels.tsa.api import ExponentialSmoothing, Holt\n",
        "import matplotlib.pyplot as plt"
      ]
    },
    {
      "cell_type": "code",
      "source": [
        "# Load the data from the CSV file\n",
        "data = pd.read_csv('WPU083.csv')\n",
        "\n",
        "# Extract the date and price index columns\n",
        "dates = data['DATE']\n",
        "price_index = data['WPU083']\n",
        "\n",
        "# Convert the date strings to datetime objects\n",
        "dates = pd.to_datetime(dates)\n",
        "\n",
        "# Set the index to the date\n",
        "data.set_index('DATE', inplace=True)"
      ],
      "metadata": {
        "id": "wX5F4lieoPk8"
      },
      "execution_count": 17,
      "outputs": []
    },
    {
      "cell_type": "code",
      "source": [
        "# Fine-tune the model by adjusting the `alpha` parameter (equivalent to smoothing_level)\n",
        "for alpha in np.arange(0.1, 1.1, 0.1):\n",
        "    # Create a new exponential smoothing model with the specified alpha (equivalent to smoothing_level)\n",
        "    model = ExponentialSmoothing(price_index, trend=None, seasonal=None, seasonal_periods=12, initialization_method=\"heuristic\")\n",
        "\n",
        "    # Fit the model to the data\n",
        "    model_fit = model.fit()\n",
        "\n",
        "    # Forecast the price index for six months\n",
        "    forecast = model_fit.forecast(steps=6)\n",
        "\n",
        "    # Calculate the mean squared error (MSE) of the forecast\n",
        "    mse = np.mean((forecast - price_index[-6:])**2)\n",
        "\n",
        "    # Print the MSE for the current alpha (equivalent to smoothing_level)\n",
        "    print('Alpha (Smoothing Level):', alpha, 'MSE:', mse)"
      ],
      "metadata": {
        "colab": {
          "base_uri": "https://localhost:8080/"
        },
        "id": "AOjauQQzoToO",
        "outputId": "9ca4d0f4-131f-469b-8310-ebf265957784"
      },
      "execution_count": 22,
      "outputs": [
        {
          "output_type": "stream",
          "name": "stdout",
          "text": [
            "Alpha (Smoothing Level): 0.1 MSE: nan\n",
            "Alpha (Smoothing Level): 0.2 MSE: nan\n",
            "Alpha (Smoothing Level): 0.30000000000000004 MSE: nan\n",
            "Alpha (Smoothing Level): 0.4 MSE: nan\n",
            "Alpha (Smoothing Level): 0.5 MSE: nan\n",
            "Alpha (Smoothing Level): 0.6 MSE: nan\n",
            "Alpha (Smoothing Level): 0.7000000000000001 MSE: nan\n",
            "Alpha (Smoothing Level): 0.8 MSE: nan\n",
            "Alpha (Smoothing Level): 0.9 MSE: nan\n",
            "Alpha (Smoothing Level): 1.0 MSE: nan\n"
          ]
        }
      ]
    },
    {
      "cell_type": "code",
      "source": [
        "# Create a double exponential smoothing model\n",
        "model = Holt(price_index)\n",
        "\n",
        "# Fit the model to the data\n",
        "model_fit = model.fit()\n",
        "\n",
        "# Forecast the price index for six months\n",
        "forecast = model_fit.forecast(steps=6)\n",
        "\n",
        "# Plot the historical and forecast data\n",
        "plt.plot(price_index)\n",
        "plt.plot(forecast)\n",
        "plt.show()"
      ],
      "metadata": {
        "colab": {
          "base_uri": "https://localhost:8080/",
          "height": 430
        },
        "id": "p1dPegJPsQaG",
        "outputId": "7b691299-e698-4b41-8e53-dc42424a80d2"
      },
      "execution_count": 23,
      "outputs": [
        {
          "output_type": "display_data",
          "data": {
            "text/plain": [
              "<Figure size 640x480 with 1 Axes>"
            ],
            "image/png": "[encoded data removed]"
          },
          "metadata": {}
        }
      ]
    },
    {
      "cell_type": "code",
      "source": [
        "pip install --upgrade statsmodels\n"
      ],
      "metadata": {
        "colab": {
          "base_uri": "https://localhost:8080/"
        },
        "id": "Tn8hFvnwwUiD",
        "outputId": "f5aeb867-ab01-4a33-e14b-0402b9d5e608"
      },
      "execution_count": 26,
      "outputs": [
        {
          "output_type": "stream",
          "name": "stdout",
          "text": [
            "Requirement already satisfied: statsmodels in /usr/local/lib/python3.10/dist-packages (0.14.0)\n",
            "Requirement already satisfied: numpy>=1.18 in /usr/local/lib/python3.10/dist-packages (from statsmodels) (1.23.5)\n",
            "Requirement already satisfied: scipy!=1.9.2,>=1.4 in /usr/local/lib/python3.10/dist-packages (from statsmodels) (1.11.4)\n",
            "Requirement already satisfied: pandas>=1.0 in /usr/local/lib/python3.10/dist-packages (from statsmodels) (1.5.3)\n",
            "Requirement already satisfied: patsy>=0.5.2 in /usr/local/lib/python3.10/dist-packages (from statsmodels) (0.5.3)\n",
            "Requirement already satisfied: packaging>=21.3 in /usr/local/lib/python3.10/dist-packages (from statsmodels) (23.2)\n",
            "Requirement already satisfied: python-dateutil>=2.8.1 in /usr/local/lib/python3.10/dist-packages (from pandas>=1.0->statsmodels) (2.8.2)\n",
            "Requirement already satisfied: pytz>=2020.1 in /usr/local/lib/python3.10/dist-packages (from pandas>=1.0->statsmodels) (2023.3.post1)\n",
            "Requirement already satisfied: six in /usr/local/lib/python3.10/dist-packages (from patsy>=0.5.2->statsmodels) (1.16.0)\n"
          ]
        }
      ]
    },
    {
      "cell_type": "code",
      "source": [
        "# Fine-tune the model by adjusting the `damped` parameter\n",
        "for damped in [False, True]:\n",
        "    # Create a new double exponential smoothing model with the specified damping\n",
        "    model = Holt(price_index, damped=damped)\n",
        "\n",
        "    # Fit the model to the data\n",
        "    model_fit = model.fit()\n",
        "\n",
        "    # Forecast the price index for six months\n",
        "    forecast = model_fit.forecast(steps=6)\n",
        "\n",
        "    # Calculate the mean squared error (MSE) of the forecast\n",
        "    mse = np.mean((forecast - price_index[-6:])**2)\n",
        "\n",
        "    # Print the MSE for the current damping configuration\n",
        "    print('Damped:', damped, 'MSE:', mse)"
      ],
      "metadata": {
        "colab": {
          "base_uri": "https://localhost:8080/"
        },
        "id": "MyVTNTQyzwqQ",
        "outputId": "f5a12957-272e-4e43-9628-176768b91009"
      },
      "execution_count": 27,
      "outputs": [
        {
          "output_type": "stream",
          "name": "stdout",
          "text": [
            "Damped: False MSE: nan\n",
            "Damped: True MSE: nan\n"
          ]
        },
        {
          "output_type": "stream",
          "name": "stderr",
          "text": [
            "<ipython-input-27-d071642fa34c>:4: FutureWarning: the 'damped'' keyword is deprecated, use 'damped_trend' instead.\n",
            "  model = Holt(price_index, damped=damped)\n",
            "<ipython-input-27-d071642fa34c>:4: FutureWarning: the 'damped'' keyword is deprecated, use 'damped_trend' instead.\n",
            "  model = Holt(price_index, damped=damped)\n"
          ]
        }
      ]
    }
  ]
}